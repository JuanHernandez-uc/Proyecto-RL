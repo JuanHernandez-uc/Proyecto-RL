{
 "cells": [
  {
   "cell_type": "code",
   "execution_count": 1,
   "id": "54b2b84a",
   "metadata": {},
   "outputs": [],
   "source": [
    "import os, sys\n",
    "\n",
    "ruta_raiz = os.path.abspath(\"..\")\n",
    "if ruta_raiz not in sys.path:\n",
    "    sys.path.append(ruta_raiz)"
   ]
  },
  {
   "cell_type": "code",
   "execution_count": 11,
   "id": "f3d2c37c",
   "metadata": {},
   "outputs": [],
   "source": [
    "import numpy as np\n",
    "import random\n",
    "import torch\n",
    "import torch.nn as nn\n",
    "from collections import deque\n",
    "from mpe2 import simple_tag_v3\n",
    "import supersuit as ss\n",
    "from NGUMultiAgent.NGUMulti import NGUMultiAgent\n",
    "from NGU.DQN import DQN as NGU_DQN\n",
    "import pandas as pd\n",
    "import matplotlib.pyplot as plt"
   ]
  },
  {
   "cell_type": "code",
   "execution_count": 3,
   "id": "60dfbfcb",
   "metadata": {},
   "outputs": [],
   "source": [
    "class FakeEnv:\n",
    "    def __init__(self, observation_space, action_space):\n",
    "        self.observation_space = observation_space\n",
    "        self.action_space = action_space"
   ]
  },
  {
   "cell_type": "code",
   "execution_count": 6,
   "id": "37ddadc7",
   "metadata": {},
   "outputs": [],
   "source": [
    "seed = 42\n",
    "\n",
    "base_params = dict(\n",
    "    learning_rate = 0.001,\n",
    "    buffer_size = 1000000,\n",
    "    learning_starts = 5000,\n",
    "    batch_size = 128,\n",
    "    tau = 1.0,\n",
    "    gamma = 0.99,\n",
    "    train_freq = 16,\n",
    "    gradient_steps = 4,\n",
    "    target_update_interval = 2000,\n",
    "    exploration_fraction = 0.1,\n",
    "    exploration_initial_eps = 1,\n",
    "    exploration_final_eps = 0.1,\n",
    "    max_grad_norm = 10,\n",
    "    verbose = 0,\n",
    "    beta = 0.1\n",
    ")"
   ]
  },
  {
   "cell_type": "code",
   "execution_count": null,
   "id": "185d85c6",
   "metadata": {},
   "outputs": [],
   "source": [
    "def run_agent(filename):\n",
    "    env = simple_tag_v3.parallel_env(render_mode='rgb_array', num_good=1, num_adversaries=3, num_obstacles=0, max_cycles=150, dynamic_rescaling = True)\n",
    "    env.reset(seed=seed)\n",
    "    agents = env.agents\n",
    "\n",
    "    agent_dict = {\n",
    "        agent: NGU_DQN(FakeEnv(env.observation_space(agent), env.action_space(agent)), **base_params)\n",
    "        for agent in agents if agent.startswith(\"adversary\")\n",
    "    }\n",
    "\n",
    "    trainer = NGUMultiAgent(env, agent_dict, total_timesteps=200_000, log_interval=100)\n",
    "    trainer.share_replay_buffer(\"adversary_0\")  # Compartir el buffer de replay del primer agente adversario\n",
    "    trainer.learn()\n",
    "    trainer.save_rewards_to_csv(filename)\n",
    "    #trainer.plot_total_rewards()\n",
    "    #trainer.evaluate(episodes=20)\n",
    "    #trainer.render_and_save(num_tests=5, save_path=\"demo_shared_def.mp4\", fps=5, max_steps=50)"
   ]
  },
  {
   "cell_type": "code",
   "execution_count": 29,
   "id": "8ffcfcee",
   "metadata": {},
   "outputs": [],
   "source": [
    "for i in range(1, 3):\n",
    "    run_agent(f\"runs/shared_buffer_run_{i}.csv\")"
   ]
  },
  {
   "cell_type": "code",
   "execution_count": null,
   "id": "ab5072bf",
   "metadata": {},
   "outputs": [],
   "source": [
    "agent = \"adversary_0\"\n",
    "\n",
    "for i in range(1, 3):\n",
    "    df = pd.read_csv(f\"runs/shared_buffer_run_{i}.csv\")\n",
    "    plt.plot(df[\"episode\"], df[agent], label=f\"Run {i}\")\n",
    "\n",
    "plt.xlabel(\"Episodio\")\n",
    "plt.ylabel(\"Reward total\")\n",
    "plt.title(f\"Recompensas de {agent} en múltiples runs\")\n",
    "plt.legend()\n",
    "plt.grid(True)\n",
    "plt.show()"
   ]
  }
 ],
 "metadata": {
  "kernelspec": {
   "display_name": "Python 3",
   "language": "python",
   "name": "python3"
  },
  "language_info": {
   "codemirror_mode": {
    "name": "ipython",
    "version": 3
   },
   "file_extension": ".py",
   "mimetype": "text/x-python",
   "name": "python",
   "nbconvert_exporter": "python",
   "pygments_lexer": "ipython3",
   "version": "3.12.10"
  }
 },
 "nbformat": 4,
 "nbformat_minor": 5
}
